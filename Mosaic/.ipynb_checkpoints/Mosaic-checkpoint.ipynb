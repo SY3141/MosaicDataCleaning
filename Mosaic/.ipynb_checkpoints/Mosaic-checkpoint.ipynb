{
 "cells": [
  {
   "cell_type": "code",
   "execution_count": 1,
   "id": "39abb17a",
   "metadata": {},
   "outputs": [
    {
     "name": "stderr",
     "output_type": "stream",
     "text": [
      "C:\\Users\\syao1\\Anaconda3\\lib\\site-packages\\sklearn\\utils\\deprecation.py:87: FutureWarning: Function get_feature_names is deprecated; get_feature_names is deprecated in 1.0 and will be removed in 1.2. Please use get_feature_names_out instead.\n",
      "  warnings.warn(msg, category=FutureWarning)\n"
     ]
    }
   ],
   "source": [
    "import re\n",
    "import string\n",
    "\n",
    "def clean(text):\n",
    "    '''Make text lowercase, remove text in square brackets, remove punctuation.'''\n",
    "    text = text.lower() #lowercase\n",
    "    text = re.sub('\\[.*?\\]', '', text) #removes punctuation\n",
    "    text = re.sub('[%s]' % re.escape(string.punctuation), '', text)\n",
    "    text = re.sub('\\w*\\d\\w*', '', text) #removes numbers\n",
    "    text = re.sub('\\s+', ' ', text) #removes excess whitespace\n",
    "    text = re.sub('/\\s/g', '', text) #removes trailing whitespace - obsolete\n",
    "    text = re.sub(\"[^\\x00-\\x7F]+\", '', text) #removes non ascii characters like emojis\n",
    "    return text\n",
    "\n",
    "with open(\"funhouse.csv\", \"r\", encoding='utf-8') as file:\n",
    "     funhouse = str(file.read())\n",
    "\n",
    "with open('phrases.csv', 'w', encoding='utf-8') as file:\n",
    "    for word in funhouse.split(','):\n",
    "        file.write(str(word))\n",
    "        file.write('\\n')\n",
    "        \n",
    "# with open('r1.txt', 'r', encoding='utf-8') as file:\n",
    "#     with open('r1_clean','w', encoding = 'utf-8') as output:\n",
    "#         for i in file.readlines():\n",
    "#             output.write(clean(i))\n",
    "#             output.write('\\n')\n",
    "\n",
    "# with open('phrases.csv', 'r', encoding='utf-8') as file:\n",
    "#     with open('cleanPhrase.csv','w', encoding = 'utf-8') as output:\n",
    "#         for i in file.readlines():\n",
    "#             output.write(clean(i))\n",
    "#             output.write('\\n')\n",
    "            \n",
    "# import pandas as pd\n",
    "# df = pd.read_csv('cleanPhrase.csv')\n",
    "# df.to_csv('output.csv', index=False)\n",
    "\n",
    "# from sklearn.feature_extraction.text import CountVectorizer\n",
    "\n",
    "# cv = CountVectorizer()\n",
    "# corpus = open('r1.txt')\n",
    "# data_cv = cv.fit_transform(corpus)\n",
    "# corpus.close()\n",
    "# data_dtm = pd.DataFrame(data_cv.toarray(), columns=cv.get_feature_names()).transpose()\n",
    "# data_dtm.to_csv('funhouse_freq.csv')"
   ]
  },
  {
   "cell_type": "code",
   "execution_count": null,
   "id": "ebee6f4a",
   "metadata": {},
   "outputs": [],
   "source": []
  }
 ],
 "metadata": {
  "kernelspec": {
   "display_name": "Python 3 (ipykernel)",
   "language": "python",
   "name": "python3"
  },
  "language_info": {
   "codemirror_mode": {
    "name": "ipython",
    "version": 3
   },
   "file_extension": ".py",
   "mimetype": "text/x-python",
   "name": "python",
   "nbconvert_exporter": "python",
   "pygments_lexer": "ipython3",
   "version": "3.9.12"
  }
 },
 "nbformat": 4,
 "nbformat_minor": 5
}
